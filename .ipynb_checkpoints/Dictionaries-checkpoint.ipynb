{
 "cells": [
  {
   "cell_type": "markdown",
   "id": "728b1e13",
   "metadata": {},
   "source": [
    "# Dictionaries"
   ]
  },
  {
   "cell_type": "code",
   "execution_count": 7,
   "id": "56ace17f",
   "metadata": {},
   "outputs": [],
   "source": [
    "pop = [30.55, 2.77, 39.21]\n",
    "countries = [\"afganistan\", \"albania\", \"algeria\"]"
   ]
  },
  {
   "cell_type": "markdown",
   "id": "8d593535",
   "metadata": {},
   "source": [
    "Now if we need the population of Albania, the `traditional` way of getting this is.."
   ]
  },
  {
   "cell_type": "code",
   "execution_count": 12,
   "id": "b065dea3",
   "metadata": {},
   "outputs": [
    {
     "data": {
      "text/plain": [
       "(1, 2.77)"
      ]
     },
     "execution_count": 12,
     "metadata": {},
     "output_type": "execute_result"
    }
   ],
   "source": [
    "alba_ind = countries.index(\"albania\")\n",
    "alba_ind, pop[alba_ind]"
   ]
  },
  {
   "cell_type": "markdown",
   "id": "6b96c51d",
   "metadata": {},
   "source": [
    "It worked but it is not convenient or even intuitive.<br>\n",
    "To connect each country directly to its population without the index, we need `dictionary`"
   ]
  },
  {
   "cell_type": "code",
   "execution_count": 13,
   "id": "78872046",
   "metadata": {},
   "outputs": [],
   "source": [
    "#dictionary is made with key:value pairs\n",
    "world = {\"afganistan\":30.55, \"albania\":2.77, \"algeria\": \"39.21\"}"
   ]
  },
  {
   "cell_type": "markdown",
   "id": "809aa8c5",
   "metadata": {},
   "source": [
    "Now that the dictionary is built, we can get the population of Albania by passing the key in square brackets.."
   ]
  },
  {
   "cell_type": "code",
   "execution_count": 14,
   "id": "abb68844",
   "metadata": {},
   "outputs": [
    {
     "data": {
      "text/plain": [
       "2.77"
      ]
     },
     "execution_count": 14,
     "metadata": {},
     "output_type": "execute_result"
    }
   ],
   "source": [
    "world[\"albania\"]"
   ]
  },
  {
   "cell_type": "code",
   "execution_count": 15,
   "id": "ff652f79",
   "metadata": {},
   "outputs": [
    {
     "data": {
      "text/plain": [
       "dict_keys(['afganistan', 'albania', 'algeria'])"
      ]
     },
     "execution_count": 15,
     "metadata": {},
     "output_type": "execute_result"
    }
   ],
   "source": [
    "#now if we want to go through all the keys..\n",
    "world.keys()"
   ]
  },
  {
   "cell_type": "code",
   "execution_count": 16,
   "id": "b909263a",
   "metadata": {},
   "outputs": [
    {
     "data": {
      "text/plain": [
       "{'afganistan': 30.55, 'albania': 2.77, 'algeria': '39.21', 'sealand': 2.7e-05}"
      ]
     },
     "execution_count": 16,
     "metadata": {},
     "output_type": "execute_result"
    }
   ],
   "source": [
    "#to add values to dictonaries\n",
    "world[\"sealand\"] = 0.000027\n",
    "world"
   ]
  },
  {
   "cell_type": "code",
   "execution_count": 17,
   "id": "3329b487",
   "metadata": {},
   "outputs": [
    {
     "data": {
      "text/plain": [
       "True"
      ]
     },
     "execution_count": 17,
     "metadata": {},
     "output_type": "execute_result"
    }
   ],
   "source": [
    "#to check if sealand in world..\n",
    "\"sealand\" in world"
   ]
  },
  {
   "cell_type": "code",
   "execution_count": 18,
   "id": "c9b74647",
   "metadata": {},
   "outputs": [
    {
     "data": {
      "text/plain": [
       "{'afganistan': 30.55, 'albania': 2.77, 'algeria': '39.21'}"
      ]
     },
     "execution_count": 18,
     "metadata": {},
     "output_type": "execute_result"
    }
   ],
   "source": [
    "#to delete a pair\n",
    "del(world[\"sealand\"])\n",
    "world"
   ]
  },
  {
   "cell_type": "markdown",
   "id": "8f9b9dc8",
   "metadata": {},
   "source": [
    "Dictionaries can contain key:value pairs where the values are again dictionaries"
   ]
  },
  {
   "cell_type": "code",
   "execution_count": 20,
   "id": "f5457001",
   "metadata": {},
   "outputs": [
    {
     "data": {
      "text/plain": [
       "{'spain': {'capital': 'madrid', 'population': 46.77},\n",
       " 'france': {'capital': 'paris', 'population': 66.03},\n",
       " 'germany': {'capital': 'berlin', 'population': 80.62}}"
      ]
     },
     "execution_count": 20,
     "metadata": {},
     "output_type": "execute_result"
    }
   ],
   "source": [
    "europe = { 'spain': { 'capital':'madrid', 'population':46.77 },\n",
    "           'france': { 'capital':'paris', 'population':66.03 },\n",
    "           'germany': { 'capital':'berlin', 'population':80.62 } }\n",
    "europe"
   ]
  },
  {
   "cell_type": "markdown",
   "id": "d43bf079",
   "metadata": {},
   "source": [
    "It's perfectly possible to `chain square brackets` to select elements."
   ]
  },
  {
   "cell_type": "code",
   "execution_count": 21,
   "id": "7b91286a",
   "metadata": {},
   "outputs": [
    {
     "data": {
      "text/plain": [
       "46.77"
      ]
     },
     "execution_count": 21,
     "metadata": {},
     "output_type": "execute_result"
    }
   ],
   "source": [
    "#to fetch the population for Spain from europe..\n",
    "europe[\"spain\"][\"population\"]"
   ]
  },
  {
   "cell_type": "code",
   "execution_count": 22,
   "id": "827d3309",
   "metadata": {},
   "outputs": [
    {
     "data": {
      "text/plain": [
       "{'spain': {'capital': 'madrid', 'population': 46.77},\n",
       " 'france': {'capital': 'paris', 'population': 66.03},\n",
       " 'germany': {'capital': 'berlin', 'population': 80.62},\n",
       " 'italy': {'capital': 'rome', 'population': 59.83}}"
      ]
     },
     "execution_count": 22,
     "metadata": {},
     "output_type": "execute_result"
    }
   ],
   "source": [
    "#and to add data to europe under key 'italy'\n",
    "data = { \"capital\":\"rome\", \"population\":59.83 }\n",
    "europe['italy'] = data\n",
    "europe"
   ]
  },
  {
   "cell_type": "code",
   "execution_count": 25,
   "id": "3c188d28",
   "metadata": {},
   "outputs": [
    {
     "ename": "NameError",
     "evalue": "name 'sort' is not defined",
     "output_type": "error",
     "traceback": [
      "\u001b[1;31m---------------------------------------------------------------------------\u001b[0m",
      "\u001b[1;31mNameError\u001b[0m                                 Traceback (most recent call last)",
      "Cell \u001b[1;32mIn[25], line 1\u001b[0m\n\u001b[1;32m----> 1\u001b[0m help(\u001b[43msort\u001b[49m)\n",
      "\u001b[1;31mNameError\u001b[0m: name 'sort' is not defined"
     ]
    }
   ],
   "source": []
  },
  {
   "cell_type": "code",
   "execution_count": null,
   "id": "809498a9",
   "metadata": {},
   "outputs": [],
   "source": []
  }
 ],
 "metadata": {
  "kernelspec": {
   "display_name": "Python 3 (ipykernel)",
   "language": "python",
   "name": "python3"
  },
  "language_info": {
   "codemirror_mode": {
    "name": "ipython",
    "version": 3
   },
   "file_extension": ".py",
   "mimetype": "text/x-python",
   "name": "python",
   "nbconvert_exporter": "python",
   "pygments_lexer": "ipython3",
   "version": "3.11.1"
  }
 },
 "nbformat": 4,
 "nbformat_minor": 5
}
