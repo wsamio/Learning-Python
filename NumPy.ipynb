{
 "cells": [
  {
   "cell_type": "code",
   "execution_count": 1,
   "id": "ea2cb89a",
   "metadata": {},
   "outputs": [],
   "source": [
    "#regular array or list\n",
    "height = [1.73, 1.68, 1.30, 1.89]\n",
    "weight = [65.5, 60, 54, 80.2]"
   ]
  },
  {
   "cell_type": "code",
   "execution_count": 2,
   "id": "93488b6e",
   "metadata": {},
   "outputs": [
    {
     "data": {
      "text/plain": [
       "([1.73, 1.68, 1.3, 1.89], list)"
      ]
     },
     "execution_count": 2,
     "metadata": {},
     "output_type": "execute_result"
    }
   ],
   "source": [
    "height, type(height)"
   ]
  },
  {
   "cell_type": "code",
   "execution_count": 3,
   "id": "e7cdbe0d",
   "metadata": {},
   "outputs": [
    {
     "ename": "TypeError",
     "evalue": "unsupported operand type(s) for ** or pow(): 'list' and 'int'",
     "output_type": "error",
     "traceback": [
      "\u001b[1;31m---------------------------------------------------------------------------\u001b[0m",
      "\u001b[1;31mTypeError\u001b[0m                                 Traceback (most recent call last)",
      "Cell \u001b[1;32mIn[3], line 2\u001b[0m\n\u001b[0;32m      1\u001b[0m \u001b[38;5;66;03m#we want to calculate the BMI for each index of the list\u001b[39;00m\n\u001b[1;32m----> 2\u001b[0m weight \u001b[38;5;241m/\u001b[39m \u001b[43mheight\u001b[49m\u001b[43m \u001b[49m\u001b[38;5;241;43m*\u001b[39;49m\u001b[38;5;241;43m*\u001b[39;49m\u001b[43m \u001b[49m\u001b[38;5;241;43m2\u001b[39;49m\n",
      "\u001b[1;31mTypeError\u001b[0m: unsupported operand type(s) for ** or pow(): 'list' and 'int'"
     ]
    }
   ],
   "source": [
    "#we want to calculate the BMI for each index of the list\n",
    "weight / height ** 2"
   ]
  },
  {
   "cell_type": "code",
   "execution_count": 4,
   "id": "deb31a40",
   "metadata": {},
   "outputs": [],
   "source": [
    "# we can do this with a simple loop but NumPy array/list provieds an easier way \n",
    "import numpy as np"
   ]
  },
  {
   "cell_type": "code",
   "execution_count": 5,
   "id": "95187a43",
   "metadata": {},
   "outputs": [],
   "source": [
    "#first let's convert the lists from regular to numpy array/list\n",
    "np_height = np.array(height)\n",
    "np_weight = np.array(weight)"
   ]
  },
  {
   "cell_type": "code",
   "execution_count": 6,
   "id": "0f59507d",
   "metadata": {},
   "outputs": [
    {
     "data": {
      "text/plain": [
       "(array([1.73, 1.68, 1.3 , 1.89]), numpy.ndarray)"
      ]
     },
     "execution_count": 6,
     "metadata": {},
     "output_type": "execute_result"
    }
   ],
   "source": [
    "np_height, type(np_height)"
   ]
  },
  {
   "cell_type": "code",
   "execution_count": 7,
   "id": "649732fe",
   "metadata": {},
   "outputs": [
    {
     "data": {
      "text/plain": [
       "array([21.88512814, 21.2585034 , 31.95266272, 22.45177907])"
      ]
     },
     "execution_count": 7,
     "metadata": {},
     "output_type": "execute_result"
    }
   ],
   "source": [
    "#now we calculate the BMI of each index using numpy array\n",
    "bmi = np_weight / np_height ** 2\n",
    "bmi"
   ]
  },
  {
   "cell_type": "code",
   "execution_count": 8,
   "id": "af8fe620",
   "metadata": {},
   "outputs": [],
   "source": [
    "#regular list and numpy array differs a lot"
   ]
  },
  {
   "cell_type": "code",
   "execution_count": 9,
   "id": "85259ac9",
   "metadata": {},
   "outputs": [
    {
     "data": {
      "text/plain": [
       "array(['1.0', 'is', 'True'], dtype='<U32')"
      ]
     },
     "execution_count": 9,
     "metadata": {},
     "output_type": "execute_result"
    }
   ],
   "source": [
    "#first off, numpy array contains only one type\n",
    "#so if we put different types it will mess up the elements\n",
    "#for the following case it takes all of these as strings\n",
    "np.array([1.0, \"is\", True])"
   ]
  },
  {
   "cell_type": "code",
   "execution_count": 10,
   "id": "64f78cd8",
   "metadata": {},
   "outputs": [],
   "source": [
    "#second, numpy array behaves differently\n",
    "python_list = [1, 2, 3]\n",
    "numpy_array = np.array([1, 2, 3])"
   ]
  },
  {
   "cell_type": "code",
   "execution_count": 13,
   "id": "03c1fa8f",
   "metadata": {},
   "outputs": [
    {
     "data": {
      "text/plain": [
       "([1, 2, 3, 1, 2, 3], array([2, 4, 6]))"
      ]
     },
     "execution_count": 13,
     "metadata": {},
     "output_type": "execute_result"
    }
   ],
   "source": [
    "#for example, if we do \"python_list + python_list\", the list elements are pasted together\n",
    "#if we do this on numpy array on the other hand, we get element wise sum of the array\n",
    "python_list + python_list, numpy_array + numpy_array"
   ]
  },
  {
   "cell_type": "code",
   "execution_count": null,
   "id": "65f7d880",
   "metadata": {},
   "outputs": [],
   "source": [
    "#NumPy Subsetting using booleans\n",
    "#say i want to get all bmi valuse that are over 22"
   ]
  },
  {
   "cell_type": "code",
   "execution_count": null,
   "id": "0c754f0d",
   "metadata": {},
   "outputs": [],
   "source": [
    "#first step is using the greater than sign\n",
    "bmi > 22"
   ]
  },
  {
   "cell_type": "code",
   "execution_count": null,
   "id": "f9838d85",
   "metadata": {
    "scrolled": false
   },
   "outputs": [],
   "source": [
    "#next i can use this boolean array to inside square brackets to do the subsetting\n",
    "bmi[bmi > 22]"
   ]
  },
  {
   "cell_type": "code",
   "execution_count": null,
   "id": "2f651727",
   "metadata": {},
   "outputs": [],
   "source": [
    "#2D NumPy array\n",
    "np_2d = np.array([[1.73, 1.68, 1.30, 1.89],\n",
    "                     [65.5, 60, 54, 80.2]])\n",
    "np_2d"
   ]
  },
  {
   "cell_type": "code",
   "execution_count": null,
   "id": "64263033",
   "metadata": {},
   "outputs": [],
   "source": [
    "#shape attribute of 2d numpy array provides the number of rows and columns\n",
    "np_2d.shape"
   ]
  },
  {
   "cell_type": "code",
   "execution_count": null,
   "id": "c5dfebc1",
   "metadata": {},
   "outputs": [],
   "source": [
    "#subsetting on a 2d numpy array\n",
    "np_2d[0][2], np_2d[0,2]"
   ]
  },
  {
   "cell_type": "code",
   "execution_count": null,
   "id": "86665837",
   "metadata": {},
   "outputs": [],
   "source": [
    "#suppose i want the height and weight of the second and third family member and i just want the weight\n",
    "np_2d[:, 1:3], np_2d[1, :]"
   ]
  },
  {
   "cell_type": "code",
   "execution_count": null,
   "id": "d6a0df14",
   "metadata": {},
   "outputs": [],
   "source": [
    "#we can do operation like these in numpy 2d array\n",
    "#like the one where we calculated the bmi with numpy array\n",
    "test_1 = np.array([[1, 2],\n",
    "                  [3, 4],\n",
    "                  [5, 6],\n",
    "                  [7, 8]])\n",
    "test_2 = np.array([3 , 4])\n",
    "test_1 + test_1, test_1 * test_2"
   ]
  },
  {
   "cell_type": "code",
   "execution_count": 20,
   "id": "6db88136",
   "metadata": {},
   "outputs": [
    {
     "data": {
      "text/plain": [
       "(array([1.61, 1.73, 2.13, ..., 1.63, 2.16, 1.83]),\n",
       " array([56.94, 69.59, 45.12, ..., 45.39, 52.52, 62.28]))"
      ]
     },
     "execution_count": 20,
     "metadata": {},
     "output_type": "execute_result"
    }
   ],
   "source": [
    "#useful numpy functions\n",
    "#but before we learn useful functions lets generate two arrays of 5000 random numbers using numpy function\n",
    "test_height = np.round(np.random.normal(1.75, 0.20, 5000), 2)\n",
    "test_weight = np.round(np.random.normal(60.32, 15, 5000), 2)\n",
    "test_height, test_weight"
   ]
  },
  {
   "cell_type": "code",
   "execution_count": 21,
   "id": "08429aeb",
   "metadata": {},
   "outputs": [
    {
     "data": {
      "text/plain": [
       "array([[ 1.61, 56.94],\n",
       "       [ 1.73, 69.59],\n",
       "       [ 2.13, 45.12],\n",
       "       ...,\n",
       "       [ 1.63, 45.39],\n",
       "       [ 2.16, 52.52],\n",
       "       [ 1.83, 62.28]])"
      ]
     },
     "execution_count": 21,
     "metadata": {},
     "output_type": "execute_result"
    }
   ],
   "source": [
    "#now using column_stack function to paste them together as two colums\n",
    "np_city = np.column_stack((test_height, test_weight))\n",
    "np_city"
   ]
  },
  {
   "cell_type": "code",
   "execution_count": 23,
   "id": "e44d14ed",
   "metadata": {},
   "outputs": [
    {
     "data": {
      "text/plain": [
       "1.754952"
      ]
     },
     "execution_count": 23,
     "metadata": {},
     "output_type": "execute_result"
    }
   ],
   "source": [
    "#average height of the np_city people\n",
    "np.mean(np_city[:, 0])"
   ]
  },
  {
   "cell_type": "code",
   "execution_count": 25,
   "id": "ccf01e2d",
   "metadata": {},
   "outputs": [
    {
     "data": {
      "text/plain": [
       "60.614999999999995"
      ]
     },
     "execution_count": 25,
     "metadata": {},
     "output_type": "execute_result"
    }
   ],
   "source": [
    "#median weight of the np_city people\n",
    "np.median(np_city[:, 1])"
   ]
  },
  {
   "cell_type": "code",
   "execution_count": 27,
   "id": "83e4dd29",
   "metadata": {},
   "outputs": [
    {
     "data": {
      "text/plain": [
       "array([[ 1.        , -0.02706839],\n",
       "       [-0.02706839,  1.        ]])"
      ]
     },
     "execution_count": 27,
     "metadata": {},
     "output_type": "execute_result"
    }
   ],
   "source": [
    "#correaltion of the height and weight of the np_city people\n",
    "np.corrcoef(np_city[:, 0], np_city[:, 1])"
   ]
  },
  {
   "cell_type": "code",
   "execution_count": 28,
   "id": "9499e863",
   "metadata": {},
   "outputs": [
    {
     "data": {
      "text/plain": [
       "0.19661443918491844"
      ]
     },
     "execution_count": 28,
     "metadata": {},
     "output_type": "execute_result"
    }
   ],
   "source": [
    "#standard deviation of the heights\n",
    "np.std(np_city[:, 0])"
   ]
  },
  {
   "cell_type": "code",
   "execution_count": null,
   "id": "7784e455",
   "metadata": {},
   "outputs": [],
   "source": []
  }
 ],
 "metadata": {
  "kernelspec": {
   "display_name": "Python 3 (ipykernel)",
   "language": "python",
   "name": "python3"
  },
  "language_info": {
   "codemirror_mode": {
    "name": "ipython",
    "version": 3
   },
   "file_extension": ".py",
   "mimetype": "text/x-python",
   "name": "python",
   "nbconvert_exporter": "python",
   "pygments_lexer": "ipython3",
   "version": "3.11.1"
  }
 },
 "nbformat": 4,
 "nbformat_minor": 5
}
