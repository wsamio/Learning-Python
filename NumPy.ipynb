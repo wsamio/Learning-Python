{
 "cells": [
  {
   "cell_type": "markdown",
   "id": "1bda95fa",
   "metadata": {},
   "source": [
    "# NumPy"
   ]
  },
  {
   "cell_type": "code",
   "execution_count": 1,
   "id": "ea2cb89a",
   "metadata": {},
   "outputs": [],
   "source": [
    "#regular array or list\n",
    "height = [1.73, 1.68, 1.30, 1.89]\n",
    "weight = [65.5, 60, 54, 80.2]"
   ]
  },
  {
   "cell_type": "code",
   "execution_count": 2,
   "id": "93488b6e",
   "metadata": {},
   "outputs": [
    {
     "data": {
      "text/plain": [
       "([1.73, 1.68, 1.3, 1.89], list)"
      ]
     },
     "execution_count": 2,
     "metadata": {},
     "output_type": "execute_result"
    }
   ],
   "source": [
    "height, type(height)"
   ]
  },
  {
   "cell_type": "markdown",
   "id": "8b82b29e",
   "metadata": {},
   "source": [
    "Here we want to calculate the BMI for each index of the list but below code is not going to work"
   ]
  },
  {
   "cell_type": "markdown",
   "id": "0405630a",
   "metadata": {},
   "source": [
    "`weight / height ** 2`"
   ]
  },
  {
   "cell_type": "markdown",
   "id": "72483e2f",
   "metadata": {},
   "source": [
    "We can do this with a simple loop but `NumPy array` provides an easier way.."
   ]
  },
  {
   "cell_type": "code",
   "execution_count": 3,
   "id": "deb31a40",
   "metadata": {},
   "outputs": [],
   "source": [
    "import numpy as np"
   ]
  },
  {
   "cell_type": "code",
   "execution_count": 4,
   "id": "95187a43",
   "metadata": {},
   "outputs": [
    {
     "data": {
      "text/plain": [
       "(array([1.73, 1.68, 1.3 , 1.89]), numpy.ndarray)"
      ]
     },
     "execution_count": 4,
     "metadata": {},
     "output_type": "execute_result"
    }
   ],
   "source": [
    "#first let's convert the lists from regular to numpy array/\n",
    "np_height = np.array(height)\n",
    "np_weight = np.array(weight)\n",
    "np_height, type(np_height)"
   ]
  },
  {
   "cell_type": "markdown",
   "id": "a17d9ea2",
   "metadata": {},
   "source": [
    "Now we calculate the BMI of each index using `numpy array`"
   ]
  },
  {
   "cell_type": "code",
   "execution_count": 5,
   "id": "649732fe",
   "metadata": {},
   "outputs": [
    {
     "data": {
      "text/plain": [
       "array([21.88512814, 21.2585034 , 31.95266272, 22.45177907])"
      ]
     },
     "execution_count": 5,
     "metadata": {},
     "output_type": "execute_result"
    }
   ],
   "source": [
    "bmi = np_weight / np_height ** 2\n",
    "bmi"
   ]
  },
  {
   "cell_type": "markdown",
   "id": "37a31e12",
   "metadata": {},
   "source": [
    "Regular list and numpy array differs a lot<br>\n",
    "First off, numpy array contains `only one type`<br>\n",
    "so if we put different types, for the following case it takes all of data as strings"
   ]
  },
  {
   "cell_type": "code",
   "execution_count": 6,
   "id": "85259ac9",
   "metadata": {},
   "outputs": [
    {
     "data": {
      "text/plain": [
       "array(['1.0', 'is', 'True'], dtype='<U32')"
      ]
     },
     "execution_count": 6,
     "metadata": {},
     "output_type": "execute_result"
    }
   ],
   "source": [
    "np.array([1.0, \"is\", True])"
   ]
  },
  {
   "cell_type": "markdown",
   "id": "b18d551a",
   "metadata": {},
   "source": [
    "Second, numpy array behaves differently"
   ]
  },
  {
   "cell_type": "code",
   "execution_count": 7,
   "id": "64f78cd8",
   "metadata": {},
   "outputs": [],
   "source": [
    "python_list = [1, 2, 3]\n",
    "numpy_array = np.array([1, 2, 3])"
   ]
  },
  {
   "cell_type": "markdown",
   "id": "65df3927",
   "metadata": {},
   "source": [
    "For example, if we do python_list + python_list, the list `elements are pasted together`<br>\n",
    "If we do this on numpy array on the other hand, we get `element wise sum` of the array"
   ]
  },
  {
   "cell_type": "code",
   "execution_count": 8,
   "id": "03c1fa8f",
   "metadata": {},
   "outputs": [
    {
     "data": {
      "text/plain": [
       "([1, 2, 3, 1, 2, 3], array([2, 4, 6]))"
      ]
     },
     "execution_count": 8,
     "metadata": {},
     "output_type": "execute_result"
    }
   ],
   "source": [
    "python_list + python_list, numpy_array + numpy_array"
   ]
  },
  {
   "cell_type": "markdown",
   "id": "7261300f",
   "metadata": {},
   "source": [
    "**NumPy Subsetting using booleans**<br><br>\n",
    "Say i want to get all bmi valuse that are over 22..<br>\n",
    "First step is using the greater than sign"
   ]
  },
  {
   "cell_type": "code",
   "execution_count": 9,
   "id": "0c754f0d",
   "metadata": {},
   "outputs": [
    {
     "data": {
      "text/plain": [
       "array([False, False,  True,  True])"
      ]
     },
     "execution_count": 9,
     "metadata": {},
     "output_type": "execute_result"
    }
   ],
   "source": [
    "bmi > 22"
   ]
  },
  {
   "cell_type": "markdown",
   "id": "5bad572c",
   "metadata": {},
   "source": [
    "Next i can use this `boolean array` inside square brackets to do the subsetting.."
   ]
  },
  {
   "cell_type": "code",
   "execution_count": 10,
   "id": "f9838d85",
   "metadata": {
    "scrolled": false
   },
   "outputs": [
    {
     "data": {
      "text/plain": [
       "array([31.95266272, 22.45177907])"
      ]
     },
     "execution_count": 10,
     "metadata": {},
     "output_type": "execute_result"
    }
   ],
   "source": [
    "bmi[bmi > 22]"
   ]
  },
  {
   "cell_type": "markdown",
   "id": "926314e8",
   "metadata": {},
   "source": [
    "**2D NumPy array**"
   ]
  },
  {
   "cell_type": "code",
   "execution_count": 11,
   "id": "2f651727",
   "metadata": {},
   "outputs": [
    {
     "data": {
      "text/plain": [
       "array([[ 1.73,  1.68,  1.3 ,  1.89],\n",
       "       [65.5 , 60.  , 54.  , 80.2 ]])"
      ]
     },
     "execution_count": 11,
     "metadata": {},
     "output_type": "execute_result"
    }
   ],
   "source": [
    "np_2d = np.array([[1.73, 1.68, 1.30, 1.89],\n",
    "                     [65.5, 60, 54, 80.2]])\n",
    "np_2d"
   ]
  },
  {
   "cell_type": "markdown",
   "id": "1df2b55e",
   "metadata": {},
   "source": [
    "`Shape attribute` of 2d numpy array provides the number of rows and columns"
   ]
  },
  {
   "cell_type": "code",
   "execution_count": 12,
   "id": "64263033",
   "metadata": {},
   "outputs": [
    {
     "data": {
      "text/plain": [
       "(2, 4)"
      ]
     },
     "execution_count": 12,
     "metadata": {},
     "output_type": "execute_result"
    }
   ],
   "source": [
    "np_2d.shape"
   ]
  },
  {
   "cell_type": "code",
   "execution_count": 13,
   "id": "c5dfebc1",
   "metadata": {},
   "outputs": [
    {
     "data": {
      "text/plain": [
       "(1.3, 1.3)"
      ]
     },
     "execution_count": 13,
     "metadata": {},
     "output_type": "execute_result"
    }
   ],
   "source": [
    "#subsetting on a 2d numpy array\n",
    "np_2d[0][2], np_2d[0,2]"
   ]
  },
  {
   "cell_type": "markdown",
   "id": "0dc1147a",
   "metadata": {},
   "source": [
    "Suppose i want the height and weight of the second and third family member and i just want the weight"
   ]
  },
  {
   "cell_type": "code",
   "execution_count": 14,
   "id": "86665837",
   "metadata": {},
   "outputs": [
    {
     "data": {
      "text/plain": [
       "(array([[ 1.68,  1.3 ],\n",
       "        [60.  , 54.  ]]),\n",
       " array([65.5, 60. , 54. , 80.2]))"
      ]
     },
     "execution_count": 14,
     "metadata": {},
     "output_type": "execute_result"
    }
   ],
   "source": [
    "np_2d[:, 1:3], np_2d[1, :]"
   ]
  },
  {
   "cell_type": "markdown",
   "id": "910aca24",
   "metadata": {},
   "source": [
    "We can do operation like below in numpy 2d array<br>\n",
    "Like the one where we calculated the bmi with numpy array"
   ]
  },
  {
   "cell_type": "code",
   "execution_count": 15,
   "id": "d60560b8",
   "metadata": {},
   "outputs": [
    {
     "data": {
      "text/plain": [
       "(array([[ 2,  4],\n",
       "        [ 6,  8],\n",
       "        [10, 12],\n",
       "        [14, 16]]),\n",
       " array([[ 3,  8],\n",
       "        [ 9, 16],\n",
       "        [15, 24],\n",
       "        [21, 32]]))"
      ]
     },
     "execution_count": 15,
     "metadata": {},
     "output_type": "execute_result"
    }
   ],
   "source": [
    "test_1 = np.array([[1, 2],\n",
    "                  [3, 4],\n",
    "                  [5, 6],\n",
    "                  [7, 8]])\n",
    "test_2 = np.array([3 , 4])\n",
    "test_1 + test_1, test_1 * test_2"
   ]
  },
  {
   "cell_type": "markdown",
   "id": "e178cfe5",
   "metadata": {},
   "source": [
    "**Useful numpy functions**<br><br>\n",
    "\n",
    "But before we learn useful functions lets generate two arrays of 5000 `random numbers` using numpy function"
   ]
  },
  {
   "cell_type": "code",
   "execution_count": 16,
   "id": "6db88136",
   "metadata": {},
   "outputs": [
    {
     "data": {
      "text/plain": [
       "(array([1.77, 1.88, 1.57, ..., 1.8 , 1.85, 2.09]),\n",
       " array([77.1 , 47.41, 57.23, ..., 80.21, 80.15, 34.52]))"
      ]
     },
     "execution_count": 16,
     "metadata": {},
     "output_type": "execute_result"
    }
   ],
   "source": [
    "test_height = np.round(np.random.normal(1.75, 0.20, 5000), 2)\n",
    "test_weight = np.round(np.random.normal(60.32, 15, 5000), 2)\n",
    "test_height, test_weight"
   ]
  },
  {
   "cell_type": "code",
   "execution_count": 17,
   "id": "08429aeb",
   "metadata": {},
   "outputs": [
    {
     "data": {
      "text/plain": [
       "array([[ 1.77, 77.1 ],\n",
       "       [ 1.88, 47.41],\n",
       "       [ 1.57, 57.23],\n",
       "       ...,\n",
       "       [ 1.8 , 80.21],\n",
       "       [ 1.85, 80.15],\n",
       "       [ 2.09, 34.52]])"
      ]
     },
     "execution_count": 17,
     "metadata": {},
     "output_type": "execute_result"
    }
   ],
   "source": [
    "#using column_stack function to paste them together as two colums\n",
    "np_city = np.column_stack((test_height, test_weight))\n",
    "np_city"
   ]
  },
  {
   "cell_type": "code",
   "execution_count": 18,
   "id": "e44d14ed",
   "metadata": {},
   "outputs": [
    {
     "data": {
      "text/plain": [
       "1.7538479999999999"
      ]
     },
     "execution_count": 18,
     "metadata": {},
     "output_type": "execute_result"
    }
   ],
   "source": [
    "#average height of the np_city people\n",
    "np.mean(np_city[:, 0])"
   ]
  },
  {
   "cell_type": "code",
   "execution_count": 19,
   "id": "ccf01e2d",
   "metadata": {},
   "outputs": [
    {
     "data": {
      "text/plain": [
       "60.46"
      ]
     },
     "execution_count": 19,
     "metadata": {},
     "output_type": "execute_result"
    }
   ],
   "source": [
    "#median weight of the np_city people\n",
    "np.median(np_city[:, 1])"
   ]
  },
  {
   "cell_type": "code",
   "execution_count": 20,
   "id": "83e4dd29",
   "metadata": {},
   "outputs": [
    {
     "data": {
      "text/plain": [
       "array([[ 1.       , -0.0228224],\n",
       "       [-0.0228224,  1.       ]])"
      ]
     },
     "execution_count": 20,
     "metadata": {},
     "output_type": "execute_result"
    }
   ],
   "source": [
    "#correaltion of the height and weight of the np_city people\n",
    "np.corrcoef(np_city[:, 0], np_city[:, 1])"
   ]
  },
  {
   "cell_type": "code",
   "execution_count": 21,
   "id": "9499e863",
   "metadata": {},
   "outputs": [
    {
     "data": {
      "text/plain": [
       "0.19865405330876085"
      ]
     },
     "execution_count": 21,
     "metadata": {},
     "output_type": "execute_result"
    }
   ],
   "source": [
    "#standard deviation of the heights\n",
    "np.std(np_city[:, 0])"
   ]
  },
  {
   "cell_type": "code",
   "execution_count": null,
   "id": "7784e455",
   "metadata": {},
   "outputs": [],
   "source": []
  }
 ],
 "metadata": {
  "kernelspec": {
   "display_name": "Python 3 (ipykernel)",
   "language": "python",
   "name": "python3"
  },
  "language_info": {
   "codemirror_mode": {
    "name": "ipython",
    "version": 3
   },
   "file_extension": ".py",
   "mimetype": "text/x-python",
   "name": "python",
   "nbconvert_exporter": "python",
   "pygments_lexer": "ipython3",
   "version": "3.11.1"
  }
 },
 "nbformat": 4,
 "nbformat_minor": 5
}
