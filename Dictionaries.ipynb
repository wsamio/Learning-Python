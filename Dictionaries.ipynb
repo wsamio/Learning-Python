{
 "cells": [
  {
   "cell_type": "code",
   "execution_count": 7,
   "id": "56ace17f",
   "metadata": {},
   "outputs": [],
   "source": [
    "pop = [30.55, 2.77, 39.21]\n",
    "countries = [\"afganistan\", \"albania\", \"algeria\"]"
   ]
  },
  {
   "cell_type": "markdown",
   "id": "8d593535",
   "metadata": {},
   "source": [
    "Now if we need the population of Albania, the `traditional` way of getting this is.."
   ]
  },
  {
   "cell_type": "code",
   "execution_count": 12,
   "id": "b065dea3",
   "metadata": {},
   "outputs": [
    {
     "data": {
      "text/plain": [
       "(1, 2.77)"
      ]
     },
     "execution_count": 12,
     "metadata": {},
     "output_type": "execute_result"
    }
   ],
   "source": [
    "alba_ind = countries.index(\"albania\")\n",
    "alba_ind, pop[alba_ind]"
   ]
  },
  {
   "cell_type": "markdown",
   "id": "c312d575",
   "metadata": {},
   "source": [
    "It worked but it is not convenient or even intuitive.<br>\n",
    "To connect each country directly to its population without the index, we need `dictionary`<br>"
   ]
  },
  {
   "cell_type": "code",
   "execution_count": 13,
   "id": "78872046",
   "metadata": {},
   "outputs": [],
   "source": [
    "#dictionary is made with key:value pairs\n",
    "world = {\"afganistan\":30.55, \"albania\":2.77, \"algeria\": \"39.21\"}"
   ]
  },
  {
   "cell_type": "markdown",
   "id": "53936b72",
   "metadata": {},
   "source": [
    "Now that the dictionary is built, we can get the population of Albania by passing the key in square brackets.."
   ]
  },
  {
   "cell_type": "code",
   "execution_count": 14,
   "id": "abb68844",
   "metadata": {},
   "outputs": [
    {
     "data": {
      "text/plain": [
       "2.77"
      ]
     },
     "execution_count": 14,
     "metadata": {},
     "output_type": "execute_result"
    }
   ],
   "source": [
    "world[\"albania\"]"
   ]
  },
  {
   "cell_type": "code",
   "execution_count": 15,
   "id": "ff652f79",
   "metadata": {},
   "outputs": [
    {
     "data": {
      "text/plain": [
       "dict_keys(['afganistan', 'albania', 'algeria'])"
      ]
     },
     "execution_count": 15,
     "metadata": {},
     "output_type": "execute_result"
    }
   ],
   "source": [
    "#now if we want to go through all the keys..\n",
    "world.keys()"
   ]
  },
  {
   "cell_type": "code",
   "execution_count": null,
   "id": "c5f377be",
   "metadata": {},
   "outputs": [],
   "source": []
  }
 ],
 "metadata": {
  "kernelspec": {
   "display_name": "Python 3 (ipykernel)",
   "language": "python",
   "name": "python3"
  },
  "language_info": {
   "codemirror_mode": {
    "name": "ipython",
    "version": 3
   },
   "file_extension": ".py",
   "mimetype": "text/x-python",
   "name": "python",
   "nbconvert_exporter": "python",
   "pygments_lexer": "ipython3",
   "version": "3.11.1"
  }
 },
 "nbformat": 4,
 "nbformat_minor": 5
}
