{
 "cells": [
  {
   "cell_type": "code",
   "execution_count": 1,
   "id": "bd16898a",
   "metadata": {},
   "outputs": [],
   "source": [
    "import numpy as np"
   ]
  },
  {
   "cell_type": "code",
   "execution_count": 46,
   "id": "73313409",
   "metadata": {},
   "outputs": [],
   "source": [
    "height = np.array([1.73, 1.68, 1.30, 1.89])\n",
    "weight = np.array([65.5, 60, 54, 80.2])"
   ]
  },
  {
   "cell_type": "code",
   "execution_count": 3,
   "id": "64621921",
   "metadata": {},
   "outputs": [
    {
     "data": {
      "text/plain": [
       "array([[1.      , 0.878653],\n",
       "       [0.878653, 1.      ]])"
      ]
     },
     "execution_count": 3,
     "metadata": {},
     "output_type": "execute_result"
    }
   ],
   "source": [
    "np.corrcoef(height, weight)"
   ]
  },
  {
   "cell_type": "code",
   "execution_count": 4,
   "id": "5264fcbd",
   "metadata": {},
   "outputs": [
    {
     "data": {
      "text/plain": [
       "array([[1.      , 0.878653],\n",
       "       [0.878653, 1.      ]])"
      ]
     },
     "execution_count": 4,
     "metadata": {},
     "output_type": "execute_result"
    }
   ],
   "source": [
    "np.corrcoef(weight, height)"
   ]
  },
  {
   "cell_type": "code",
   "execution_count": 6,
   "id": "e2995565",
   "metadata": {},
   "outputs": [
    {
     "data": {
      "text/plain": [
       "(array([[nan, nan],\n",
       "        [nan, nan]]),\n",
       " array([[nan, nan],\n",
       "        [nan, nan]]),\n",
       " array([[nan, nan],\n",
       "        [nan, nan]]),\n",
       " array([[nan, nan],\n",
       "        [nan, nan]]),\n",
       " array([[nan, nan],\n",
       "        [nan, nan]]))"
      ]
     },
     "execution_count": 6,
     "metadata": {},
     "output_type": "execute_result"
    }
   ],
   "source": [
    "np.corrcoef(1, 2), np.corrcoef(2, 1), np.corrcoef(0.5, 0), np.corrcoef(0, 0), np.corrcoef(-2, 1)"
   ]
  },
  {
   "cell_type": "code",
   "execution_count": 7,
   "id": "048a564b",
   "metadata": {},
   "outputs": [
    {
     "data": {
      "text/plain": [
       "array([[nan, nan],\n",
       "       [nan, nan]])"
      ]
     },
     "execution_count": 7,
     "metadata": {},
     "output_type": "execute_result"
    }
   ],
   "source": [
    "np.corrcoef(0.5, 1)"
   ]
  },
  {
   "cell_type": "code",
   "execution_count": 22,
   "id": "1e2dd798",
   "metadata": {},
   "outputs": [],
   "source": [
    "test = np.array([1, 2, 3, 4, 5, 6, 7, 8])"
   ]
  },
  {
   "cell_type": "code",
   "execution_count": 23,
   "id": "afdf8f83",
   "metadata": {},
   "outputs": [
    {
     "data": {
      "text/plain": [
       "2.29128784747792"
      ]
     },
     "execution_count": 23,
     "metadata": {},
     "output_type": "execute_result"
    }
   ],
   "source": [
    "np.std(test)"
   ]
  },
  {
   "cell_type": "code",
   "execution_count": 33,
   "id": "4ef5db17",
   "metadata": {
    "scrolled": true
   },
   "outputs": [
    {
     "data": {
      "text/plain": [
       "array([[ 1., -1.],\n",
       "       [-1.,  1.]])"
      ]
     },
     "execution_count": 33,
     "metadata": {},
     "output_type": "execute_result"
    }
   ],
   "source": [
    "np.corrcoef([1, 0], [0, 0.5])"
   ]
  },
  {
   "cell_type": "code",
   "execution_count": 45,
   "id": "9e405169",
   "metadata": {},
   "outputs": [],
   "source": [
    "x = [1.45, 0.2, 7.45]\n",
    "y = [4.834, 9.342, 1.9]\n",
    "xy = [[1.45, 0.2, 7.45],[4.834, 9.342, 1.9]]"
   ]
  },
  {
   "cell_type": "code",
   "execution_count": 43,
   "id": "78cf805e",
   "metadata": {},
   "outputs": [
    {
     "data": {
      "text/plain": [
       "(array([[1., 1.],\n",
       "        [1., 1.]]),\n",
       " array([[1., 1.],\n",
       "        [1., 1.]]))"
      ]
     },
     "execution_count": 43,
     "metadata": {},
     "output_type": "execute_result"
    }
   ],
   "source": [
    "np.corrcoef(x, y), np.corrcoef(xy)"
   ]
  },
  {
   "cell_type": "code",
   "execution_count": 48,
   "id": "a9a17702",
   "metadata": {},
   "outputs": [
    {
     "data": {
      "text/plain": [
       "(array([[1.      , 0.878653],\n",
       "        [0.878653, 1.      ]]),\n",
       " array([[1.      , 0.878653],\n",
       "        [0.878653, 1.      ]]))"
      ]
     },
     "execution_count": 48,
     "metadata": {},
     "output_type": "execute_result"
    }
   ],
   "source": [
    "XY = [[1.73, 1.68, 1.30, 1.89],[65.5, 60, 54, 80.2]]\n",
    "np.corrcoef(height, weight), np.corrcoef(XY)"
   ]
  },
  {
   "cell_type": "code",
   "execution_count": null,
   "id": "820bc806",
   "metadata": {},
   "outputs": [],
   "source": []
  }
 ],
 "metadata": {
  "kernelspec": {
   "display_name": "Python 3 (ipykernel)",
   "language": "python",
   "name": "python3"
  },
  "language_info": {
   "codemirror_mode": {
    "name": "ipython",
    "version": 3
   },
   "file_extension": ".py",
   "mimetype": "text/x-python",
   "name": "python",
   "nbconvert_exporter": "python",
   "pygments_lexer": "ipython3",
   "version": "3.11.1"
  }
 },
 "nbformat": 4,
 "nbformat_minor": 5
}
